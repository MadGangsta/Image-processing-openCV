{
 "cells": [
  {
   "cell_type": "markdown",
   "id": "7ec959db-a7f9-49b8-9653-3829d7e99f91",
   "metadata": {},
   "source": [
    "**Вызов библиотек**"
   ]
  },
  {
   "cell_type": "code",
   "execution_count": 8,
   "id": "fb8c2685-1286-4ef2-9bdb-8375380e9cf2",
   "metadata": {},
   "outputs": [],
   "source": [
    "import cv2\n",
    "import numpy as np\n",
    "from matplotlib import pyplot as plt"
   ]
  },
  {
   "cell_type": "markdown",
   "id": "5beeae7c-f63c-48b4-aaf3-d9a436e265f9",
   "metadata": {},
   "source": [
    "**Подготовка формул(среднее значение, матожидание) для алгоритма детектирования**"
   ]
  },
  {
   "cell_type": "code",
   "execution_count": 9,
   "id": "640da7f1-b6b6-42ec-9fec-57718efce17e",
   "metadata": {},
   "outputs": [],
   "source": [
    "nabor100 = []\n",
    "u_mas = np.zeros((480,640,1))"
   ]
  },
  {
   "cell_type": "code",
   "execution_count": 10,
   "id": "bbb2ff77-7691-4730-b521-2d9ddb2ad329",
   "metadata": {},
   "outputs": [],
   "source": [
    "def param(nabor):\n",
    "    u = np.mean(nabor, axis=0)\n",
    "    q = np.var(nabor, axis=0) #std\n",
    "    \n",
    "    return u, q"
   ]
  },
  {
   "cell_type": "code",
   "execution_count": 11,
   "id": "fef38600-5d28-4cf4-b19c-5f5943b8e089",
   "metadata": {},
   "outputs": [],
   "source": [
    "def obnovlenie(u , q, frame, lr):\n",
    "    n_u = lr * u + (1 - lr) * frame\n",
    "    n_q = lr * (np.square(q) + np.square(n_u - u)) + (1 - lr) * np.square(frame - n_u)\n",
    "    return n_u, np.sqrt(n_q)"
   ]
  },
  {
   "cell_type": "markdown",
   "id": "75265055-75af-45f3-bf15-0b2116c5dd38",
   "metadata": {},
   "source": [
    "**Алгоритм детектирования**"
   ]
  },
  {
   "cell_type": "code",
   "execution_count": 12,
   "id": "6c7be431-15d2-4c9d-b182-cbc8f6859a3a",
   "metadata": {},
   "outputs": [
    {
     "name": "stdout",
     "output_type": "stream",
     "text": [
      "Фреймов в секунду:  20.00329218106996 FPS\n"
     ]
    }
   ],
   "source": [
    "vid_capture = cv2.VideoCapture('C:/Users/igor1/LABA3OPENCV/1.mp4')\n",
    "if (vid_capture.isOpened() == False):\n",
    "    print(\"Ошибка открытия видеофайла\")\n",
    "# Чтение fps и количества кадров\n",
    "else:\n",
    "    # Получить информацию о частоте кадров\n",
    "    # Можно заменить 5 на CAP_PROP_FPS, это перечисления\n",
    "    fps = vid_capture.get(5)\n",
    "    print('Фреймов в секунду: ', fps,'FPS')\n",
    "\n",
    "nabor100 = []\n",
    "iter = 3400\n",
    "vid_capture.isOpened()\n",
    "flag = 0\n",
    "for i in range(iter):\n",
    "    x, background = vid_capture.read()\n",
    "    background_gray = cv2.cvtColor(background[:, 90:570], cv2.COLOR_BGR2GRAY)\n",
    "    if iter > 0 and len(nabor100) < 200:\n",
    "        nabor100.append(background_gray)\n",
    "    \n",
    "u, q = param(nabor100)    \n",
    "while(True):\n",
    "    ret, frame = vid_capture.read()\n",
    "    if ret == True:\n",
    "        frame_gray = cv2.cvtColor(frame[:, 90:570], cv2.COLOR_BGR2GRAY)\n",
    "        p =  1 / (q * np.sqrt(2 * np.pi)) * np.exp(-np.square(frame_gray - u) / (2 * q ** 2))\n",
    "        pp = p.copy()\n",
    "        p[p < 0.0061] = 0  \n",
    "        pp[pp < 0.01] = 255   \n",
    "        grad_y = cv2.Sobel(p, ddepth=cv2.CV_64F, dx = 1, dy = 1, ksize=17)\n",
    "        kernel = np.ones((3,3),np.uint8)\n",
    "        erosion = cv2.morphologyEx(grad_y, cv2.MORPH_CLOSE, kernel)\n",
    "        left_up_corner = (0, 0)\n",
    "        right_low_corner = (0, 0)\n",
    "        \n",
    "        cv2.imwrite('C:/Users/igor1/LABA3OPENCV/rezervuar/erosion.png', erosion)\n",
    "        erosion_x = cv2.imread('C:/Users/igor1/LABA3OPENCV/rezervuar/erosion.png')\n",
    "        erosion_x = cv2.cvtColor(erosion_x, cv2.COLOR_BGR2GRAY)\n",
    "        \n",
    "        erosion_x = cv2.resize(erosion_x, (480,480))\n",
    "        \n",
    "        window= 24\n",
    "        \n",
    "        for i in range(0,erosion_x.shape[0], 24):\n",
    "            ee = []\n",
    "            for j in range(0, erosion_x.shape[1], 24):\n",
    "                if np.count_nonzero(erosion_x[i:i+window,j:j+window]) > 300:\n",
    "                    cv2.rectangle(frame[:, 90:570], ((j - 25), (i - 25)), ((j+2*window + 25), (i+2*window + 25)), (0,255,0), 1)\n",
    "                    ee.append([j - 25, i - 25, j+2*window + 25, i+2*window + 25])\n",
    "                    eee = np.array(ee)\n",
    "                elif len(eee.shape) > 1:\n",
    "                    if len(eee.shape) > 1:\n",
    "                        eee_sred = np.mean(eee, axis = 0)\n",
    "                    j_max = int(eee_sred[0]) \n",
    "                    i_max = int(eee_sred[1])  \n",
    "                    jj_max = int(eee_sred[2])    \n",
    "                    ii_max = int(eee_sred[3])    \n",
    "        cv2.rectangle(frame[:, 90:570], ((j_max - 30), (i_max - 30)), ((jj_max + 30), (ii_max + 30)), (255,255,0), 1)     \n",
    "        cv2.imshow('Look_1', p)\n",
    "        cv2.imshow('Look_2', erosion_x)\n",
    "        cv2.imshow('Look_3', frame[:, 90:570])\n",
    "        \n",
    "        u, q = obnovlenie(u, q, frame_gray, 0.05)\n",
    "\n",
    "        flag = flag + 1\n",
    "        key = cv2.waitKey(20)\n",
    "        if (key == ord('q')) or key == 27:\n",
    "            break\n",
    "    else:\n",
    "        break\n",
    "vid_capture.release()\n",
    "cv2.destroyAllWindows()"
   ]
  },
  {
   "cell_type": "code",
   "execution_count": null,
   "id": "918cec05-4aa1-4ea0-bc22-62081a5b4b93",
   "metadata": {},
   "outputs": [],
   "source": []
  }
 ],
 "metadata": {
  "kernelspec": {
   "display_name": "Python 3 (ipykernel)",
   "language": "python",
   "name": "python3"
  },
  "language_info": {
   "codemirror_mode": {
    "name": "ipython",
    "version": 3
   },
   "file_extension": ".py",
   "mimetype": "text/x-python",
   "name": "python",
   "nbconvert_exporter": "python",
   "pygments_lexer": "ipython3",
   "version": "3.8.12"
  }
 },
 "nbformat": 4,
 "nbformat_minor": 5
}
